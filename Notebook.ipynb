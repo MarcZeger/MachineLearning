{
 "cells": [
  {
   "cell_type": "markdown",
   "metadata": {},
   "source": [
    "# Module importieren"
   ]
  },
  {
   "cell_type": "code",
   "execution_count": 2,
   "metadata": {},
   "outputs": [],
   "source": [
    "import mglearn\n",
    "import csv\n",
    "import numpy as np\n",
    "import pandas as pd\n",
    "import matplotlib\n",
    "import matplotlib.pyplot as plt\n",
    "import scikitplot as skplt\n",
    "import seaborn as sns\n",
    "\n",
    "from pandas import DataFrame\n",
    "from csv import reader\n",
    "from sklearn import preprocessing, svm, metrics\n",
    "from sklearn.ensemble import RandomForestClassifier, GradientBoostingClassifier\n",
    "from sklearn.tree import DecisionTreeClassifier\n",
    "from sklearn.model_selection import train_test_split, cross_val_score, cross_validate, GridSearchCV\n",
    "from sklearn.metrics import  confusion_matrix, accuracy_score, precision_score, recall_score, f1_score, make_scorer, precision_recall_curve\n",
    "from sklearn.utils.fixes import signature\n",
    "from IPython.display import display\n",
    "from mlxtend.plotting import plot_confusion_matrix\n",
    "from timeit import timeit\n",
    "\n",
    "#Warnungen unterdrücken\n",
    "import warnings\n",
    "warnings.simplefilter(action='ignore', category=FutureWarning)"
   ]
  },
  {
   "cell_type": "code",
   "execution_count": 3,
   "metadata": {},
   "outputs": [],
   "source": [
    "def draw_confusionmatrix(labels_test, pred):\n",
    "    fig, ax = plot_confusion_matrix(conf_mat=confusion_matrix(labels_test, pred))\n",
    "    ax.set(title=\"Konfusionsmatrix\", ylabel='Tatsächliche Klasse', xlabel='Vorhergesagte Klasse')\n",
    "    fig.set_size_inches(6, 6)\n",
    "    plt.show()\n",
    "\n",
    "def draw_roccurve(classifier, labels_test, features_test):\n",
    "    fig = matplotlib.pyplot.gcf()\n",
    "    test = classifier.predict_proba(features_test)[::,1]\n",
    "    fpr, tpr, thresholds = metrics.roc_curve(labels_test, test)\n",
    "    auc = metrics.roc_auc_score(labels_test, test)\n",
    "    plt.plot(fpr,tpr,label=\"auc=\"+str(auc))\n",
    "    plt.title(\"ROC Kurve\")\n",
    "    plt.legend(loc=4)\n",
    "    fig.set_size_inches(6, 6)\n",
    "    plt.show()\n",
    "    print(\"AUC: \" + str(auc))\n",
    "    \n",
    "def draw_curve(y_test, y_score):\n",
    "    precision, recall, _ = precision_recall_curve(y_test, y_score)\n",
    "    \n",
    "    step_kwargs = ({'step': 'post'}\n",
    "               if 'step' in signature(plt.fill_between).parameters\n",
    "               else {})\n",
    "    plt.step(recall, precision, color='b', alpha=0.2,\n",
    "         where='post')\n",
    "    plt.fill_between(recall, precision, alpha=0.2, color='b', **step_kwargs)\n",
    "\n",
    "    plt.xlabel('Sensitivität')\n",
    "    plt.ylabel('Relevanz')\n",
    "    plt.ylim([0.0, 1.05])\n",
    "    plt.xlim([0.0, 1.0])\n",
    "    plt.title('Precision-Recall-Kurve')\n",
    "\n",
    "def get_scores(labels, prediciton):\n",
    "    recall = recall_score(labels, prediciton)\n",
    "    precision = precision_score(labels, prediciton)\n",
    "    print()\n",
    "    print(\"Metriken ohne Kreuzvalidierung\")\n",
    "    print(\"Precision: \" + str(round(precision*100,2)) + \"%\")\n",
    "    print(\"Recall: \" + str(round(recall*100,2)) + \"%\")\n",
    "    \n",
    "def crossvalidation_all(classifier, labels, features, cv):\n",
    "    scoring = {'accuracy' : make_scorer(accuracy_score), \n",
    "               'precision' : make_scorer(precision_score),\n",
    "               'recall' : make_scorer(recall_score), \n",
    "               'f1_score' : make_scorer(f1_score)}\n",
    "    results = cross_validate(estimator=classifier, \n",
    "                             X=features, \n",
    "                             y=labels, \n",
    "                             cv=cv, \n",
    "                             scoring=scoring, \n",
    "                             return_train_score=False)\n",
    "    print()\n",
    "    print(\"Metriken mit Kreuzvalidierung\")\n",
    "    print(\"Accuracy: \" + str(round((np.mean(results['test_accuracy']) * 100),2)) + \"%\")\n",
    "    print(\"Precision: \" + str(round((np.mean(results['test_precision']) * 100),2)) + \"%\")\n",
    "    print(\"Recall: \" + str(round((np.mean(results['test_recall']) * 100),2)) + \"%\")\n",
    "    print(\"F1-Score: \" + str(round((np.mean(results['test_f1_score']) * 100),2)) + \"%\")\n",
    "\n",
    "def get_metriken(classifier, labels, features, cv):\n",
    "    scoring = {'accuracy' : make_scorer(accuracy_score), \n",
    "               'precision' : make_scorer(precision_score),\n",
    "               'recall' : make_scorer(recall_score), \n",
    "               'f1_score' : make_scorer(f1_score)}\n",
    "    results = cross_validate(estimator=classifier, \n",
    "                             X=features, \n",
    "                             y=labels, \n",
    "                             cv=cv, \n",
    "                             scoring=scoring, \n",
    "                             return_train_score=False)\n",
    "    output = {\"accuracy\":round((np.mean(results['test_accuracy']) * 100),2),\"precision\":round((np.mean(results['test_precision']) * 100),2),\"recall\":round((np.mean(results['test_recall']) * 100),2),\"f1score\":round((np.mean(results['test_f1_score']) * 100),2)}\n",
    "    return(output)\n",
    "\n",
    "def autolabel(rects):\n",
    "    for rect in rects:\n",
    "        height = int(rect.get_y()) + int(rect.get_height())\n",
    "        ax.text(rect.get_x() + rect.get_width()/2., height - 10,\n",
    "                '%d' % height,\n",
    "                ha='center', va='bottom')"
   ]
  },
  {
   "cell_type": "markdown",
   "metadata": {},
   "source": [
    "# Daten einlesen und erste Analysen"
   ]
  },
  {
   "cell_type": "code",
   "execution_count": 4,
   "metadata": {},
   "outputs": [
    {
     "name": "stdout",
     "output_type": "stream",
     "text": [
      "Folgende Schlüssel befinden sich im Datensatz:\n",
      "Index(['age', 'workclass', 'fnlwgt', 'education', 'educational-num',\n",
      "       'marital-status', 'occupation', 'relationship', 'race', 'gender',\n",
      "       'capital-gain', 'capital-loss', 'hours-per-week', 'native-country',\n",
      "       'income'],\n",
      "      dtype='object')\n",
      "\n",
      "Gesamte Anzahl der Datensätze: 48842\n"
     ]
    },
    {
     "data": {
      "text/html": [
       "<div>\n",
       "<style scoped>\n",
       "    .dataframe tbody tr th:only-of-type {\n",
       "        vertical-align: middle;\n",
       "    }\n",
       "\n",
       "    .dataframe tbody tr th {\n",
       "        vertical-align: top;\n",
       "    }\n",
       "\n",
       "    .dataframe thead th {\n",
       "        text-align: right;\n",
       "    }\n",
       "</style>\n",
       "<table border=\"1\" class=\"dataframe\">\n",
       "  <thead>\n",
       "    <tr style=\"text-align: right;\">\n",
       "      <th></th>\n",
       "      <th>age</th>\n",
       "      <th>fnlwgt</th>\n",
       "      <th>educational-num</th>\n",
       "      <th>capital-gain</th>\n",
       "      <th>capital-loss</th>\n",
       "      <th>hours-per-week</th>\n",
       "    </tr>\n",
       "  </thead>\n",
       "  <tbody>\n",
       "    <tr>\n",
       "      <th>count</th>\n",
       "      <td>48842.000000</td>\n",
       "      <td>4.884200e+04</td>\n",
       "      <td>48842.000000</td>\n",
       "      <td>48842.000000</td>\n",
       "      <td>48842.000000</td>\n",
       "      <td>48842.000000</td>\n",
       "    </tr>\n",
       "    <tr>\n",
       "      <th>mean</th>\n",
       "      <td>38.643585</td>\n",
       "      <td>1.896641e+05</td>\n",
       "      <td>10.078089</td>\n",
       "      <td>1079.067626</td>\n",
       "      <td>87.502314</td>\n",
       "      <td>40.422382</td>\n",
       "    </tr>\n",
       "    <tr>\n",
       "      <th>std</th>\n",
       "      <td>13.710510</td>\n",
       "      <td>1.056040e+05</td>\n",
       "      <td>2.570973</td>\n",
       "      <td>7452.019058</td>\n",
       "      <td>403.004552</td>\n",
       "      <td>12.391444</td>\n",
       "    </tr>\n",
       "    <tr>\n",
       "      <th>min</th>\n",
       "      <td>17.000000</td>\n",
       "      <td>1.228500e+04</td>\n",
       "      <td>1.000000</td>\n",
       "      <td>0.000000</td>\n",
       "      <td>0.000000</td>\n",
       "      <td>1.000000</td>\n",
       "    </tr>\n",
       "    <tr>\n",
       "      <th>25%</th>\n",
       "      <td>28.000000</td>\n",
       "      <td>1.175505e+05</td>\n",
       "      <td>9.000000</td>\n",
       "      <td>0.000000</td>\n",
       "      <td>0.000000</td>\n",
       "      <td>40.000000</td>\n",
       "    </tr>\n",
       "    <tr>\n",
       "      <th>50%</th>\n",
       "      <td>37.000000</td>\n",
       "      <td>1.781445e+05</td>\n",
       "      <td>10.000000</td>\n",
       "      <td>0.000000</td>\n",
       "      <td>0.000000</td>\n",
       "      <td>40.000000</td>\n",
       "    </tr>\n",
       "    <tr>\n",
       "      <th>75%</th>\n",
       "      <td>48.000000</td>\n",
       "      <td>2.376420e+05</td>\n",
       "      <td>12.000000</td>\n",
       "      <td>0.000000</td>\n",
       "      <td>0.000000</td>\n",
       "      <td>45.000000</td>\n",
       "    </tr>\n",
       "    <tr>\n",
       "      <th>max</th>\n",
       "      <td>90.000000</td>\n",
       "      <td>1.490400e+06</td>\n",
       "      <td>16.000000</td>\n",
       "      <td>99999.000000</td>\n",
       "      <td>4356.000000</td>\n",
       "      <td>99.000000</td>\n",
       "    </tr>\n",
       "  </tbody>\n",
       "</table>\n",
       "</div>"
      ],
      "text/plain": [
       "                age        fnlwgt  educational-num  capital-gain  \\\n",
       "count  48842.000000  4.884200e+04     48842.000000  48842.000000   \n",
       "mean      38.643585  1.896641e+05        10.078089   1079.067626   \n",
       "std       13.710510  1.056040e+05         2.570973   7452.019058   \n",
       "min       17.000000  1.228500e+04         1.000000      0.000000   \n",
       "25%       28.000000  1.175505e+05         9.000000      0.000000   \n",
       "50%       37.000000  1.781445e+05        10.000000      0.000000   \n",
       "75%       48.000000  2.376420e+05        12.000000      0.000000   \n",
       "max       90.000000  1.490400e+06        16.000000  99999.000000   \n",
       "\n",
       "       capital-loss  hours-per-week  \n",
       "count  48842.000000    48842.000000  \n",
       "mean      87.502314       40.422382  \n",
       "std      403.004552       12.391444  \n",
       "min        0.000000        1.000000  \n",
       "25%        0.000000       40.000000  \n",
       "50%        0.000000       40.000000  \n",
       "75%        0.000000       45.000000  \n",
       "max     4356.000000       99.000000  "
      ]
     },
     "execution_count": 4,
     "metadata": {},
     "output_type": "execute_result"
    }
   ],
   "source": [
    "datei='adult.csv'\n",
    "data=pd.read_csv(datei)\n",
    "datareduziert = data[['age', 'workclass', 'education', 'gender', 'hours-per-week',\n",
    "             'occupation', 'income']]\n",
    "df= pd.DataFrame(datareduziert)\n",
    "print(\"Folgende Schlüssel befinden sich im Datensatz:\")\n",
    "print(data.keys())\n",
    "print()\n",
    "print(\"Gesamte Anzahl der Datensätze: {}\".format(data.shape[0]))\n",
    "\n",
    "data.describe()"
   ]
  },
  {
   "cell_type": "markdown",
   "metadata": {},
   "source": [
    "# Analyse der Daten"
   ]
  },
  {
   "cell_type": "markdown",
   "metadata": {},
   "source": [
    "## Heatmap"
   ]
  },
  {
   "cell_type": "code",
   "execution_count": 5,
   "metadata": {},
   "outputs": [
    {
     "data": {
      "text/plain": [
       "<matplotlib.axes._subplots.AxesSubplot at 0x1c1b577e80>"
      ]
     },
     "execution_count": 5,
     "metadata": {},
     "output_type": "execute_result"
    },
    {
     "data": {
      "image/png": "[encoded data removed]",
      "text/plain": [
       "<Figure size 432x288 with 2 Axes>"
      ]
     },
     "metadata": {
      "needs_background": "light"
     },
     "output_type": "display_data"
    }
   ],
   "source": [
    "sns.heatmap(data.corr(),annot=True,fmt='.1f',linewidths=.5, cmap=\"Reds\")  #We can use a simple seaborn method to draw the heatmaps\n"
   ]
  },
  {
   "cell_type": "markdown",
   "metadata": {},
   "source": [
    "## Verteilung der Variablen\n",
    "### Aufteilung der Geschlechter"
   ]
  },
  {
   "cell_type": "code",
   "execution_count": 6,
   "metadata": {},
   "outputs": [
    {
     "name": "stdout",
     "output_type": "stream",
     "text": [
      "Male      32650\n",
      "Female    16192\n",
      "Name: gender, dtype: int64\n"
     ]
    },
    {
     "data": {
      "image/png": "[encoded data removed]",
      "text/plain": [
       "<Figure size 720x288 with 1 Axes>"
      ]
     },
     "metadata": {},
     "output_type": "display_data"
    }
   ],
   "source": [
    "sns.set(style=\"darkgrid\",rc={'figure.figsize':(10,4)})\n",
    "#sns.load_dataset(data[\"gender\"])\n",
    "bar = sns.countplot(data=data, x=\"gender\")\n",
    "print(data.gender.value_counts())"
   ]
  },
  {
   "cell_type": "markdown",
   "metadata": {},
   "source": [
    "### Einkommen nach Alter und Geschlecht"
   ]
  },
  {
   "cell_type": "code",
   "execution_count": 7,
   "metadata": {},
   "outputs": [
    {
     "data": {
      "image/png": "[encoded data removed]",
      "text/plain": [
       "<Figure size 584.8x576 with 4 Axes>"
      ]
     },
     "metadata": {},
     "output_type": "display_data"
    }
   ],
   "source": [
    "g = sns.FacetGrid(data, row='gender', col='income', height=4)\n",
    "g.map(plt.hist, 'age', alpha=0.5, bins=15)\n",
    "g.add_legend()\n",
    "plt.show()"
   ]
  },
  {
   "cell_type": "markdown",
   "metadata": {},
   "source": [
    "### Einkommen nach Berufsfeld"
   ]
  },
  {
   "cell_type": "code",
   "execution_count": 8,
   "metadata": {},
   "outputs": [
    {
     "data": {
      "image/png": "[encoded data removed]",
      "text/plain": [
       "<Figure size 1440x288 with 1 Axes>"
      ]
     },
     "metadata": {},
     "output_type": "display_data"
    }
   ],
   "source": [
    "sns.set(style=\"darkgrid\",rc={'figure.figsize':(20,4)})\n",
    "bar = sns.countplot(data=data, x=\"workclass\", hue=\"income\")"
   ]
  },
  {
   "cell_type": "code",
   "execution_count": 9,
   "metadata": {
    "scrolled": true
   },
   "outputs": [
    {
     "data": {
      "text/html": [
       "<div>\n",
       "<style scoped>\n",
       "    .dataframe tbody tr th:only-of-type {\n",
       "        vertical-align: middle;\n",
       "    }\n",
       "\n",
       "    .dataframe tbody tr th {\n",
       "        vertical-align: top;\n",
       "    }\n",
       "\n",
       "    .dataframe thead th {\n",
       "        text-align: right;\n",
       "    }\n",
       "</style>\n",
       "<table border=\"1\" class=\"dataframe\">\n",
       "  <thead>\n",
       "    <tr style=\"text-align: right;\">\n",
       "      <th></th>\n",
       "      <th>age</th>\n",
       "      <th>workclass</th>\n",
       "      <th>education</th>\n",
       "      <th>gender</th>\n",
       "      <th>hours-per-week</th>\n",
       "      <th>occupation</th>\n",
       "      <th>income</th>\n",
       "    </tr>\n",
       "  </thead>\n",
       "  <tbody>\n",
       "    <tr>\n",
       "      <th>0</th>\n",
       "      <td>25</td>\n",
       "      <td>Private</td>\n",
       "      <td>11th</td>\n",
       "      <td>Male</td>\n",
       "      <td>40</td>\n",
       "      <td>Machine-op-inspct</td>\n",
       "      <td>&lt;=50K</td>\n",
       "    </tr>\n",
       "    <tr>\n",
       "      <th>1</th>\n",
       "      <td>38</td>\n",
       "      <td>Private</td>\n",
       "      <td>HS-grad</td>\n",
       "      <td>Male</td>\n",
       "      <td>50</td>\n",
       "      <td>Farming-fishing</td>\n",
       "      <td>&lt;=50K</td>\n",
       "    </tr>\n",
       "    <tr>\n",
       "      <th>2</th>\n",
       "      <td>28</td>\n",
       "      <td>Local-gov</td>\n",
       "      <td>Assoc-acdm</td>\n",
       "      <td>Male</td>\n",
       "      <td>40</td>\n",
       "      <td>Protective-serv</td>\n",
       "      <td>&gt;50K</td>\n",
       "    </tr>\n",
       "    <tr>\n",
       "      <th>3</th>\n",
       "      <td>44</td>\n",
       "      <td>Private</td>\n",
       "      <td>Some-college</td>\n",
       "      <td>Male</td>\n",
       "      <td>40</td>\n",
       "      <td>Machine-op-inspct</td>\n",
       "      <td>&gt;50K</td>\n",
       "    </tr>\n",
       "    <tr>\n",
       "      <th>4</th>\n",
       "      <td>18</td>\n",
       "      <td>?</td>\n",
       "      <td>Some-college</td>\n",
       "      <td>Female</td>\n",
       "      <td>30</td>\n",
       "      <td>?</td>\n",
       "      <td>&lt;=50K</td>\n",
       "    </tr>\n",
       "  </tbody>\n",
       "</table>\n",
       "</div>"
      ],
      "text/plain": [
       "   age  workclass     education  gender  hours-per-week         occupation  \\\n",
       "0   25    Private          11th    Male              40  Machine-op-inspct   \n",
       "1   38    Private       HS-grad    Male              50    Farming-fishing   \n",
       "2   28  Local-gov    Assoc-acdm    Male              40    Protective-serv   \n",
       "3   44    Private  Some-college    Male              40  Machine-op-inspct   \n",
       "4   18          ?  Some-college  Female              30                  ?   \n",
       "\n",
       "  income  \n",
       "0  <=50K  \n",
       "1  <=50K  \n",
       "2   >50K  \n",
       "3   >50K  \n",
       "4  <=50K  "
      ]
     },
     "execution_count": 9,
     "metadata": {},
     "output_type": "execute_result"
    }
   ],
   "source": [
    "df.head()"
   ]
  },
  {
   "cell_type": "markdown",
   "metadata": {},
   "source": [
    "age und hours-per-week sind kontinuierliche Merkmale\n",
    "\n",
    "workclass, education, gender, occupation sind kategorische Merkmale (Kein Wertebereich, sondern festgelegte Liste von Werte) -> qualitative Eigenschaft"
   ]
  },
  {
   "cell_type": "markdown",
   "metadata": {},
   "source": [
    "# One-Hot-Kodierung"
   ]
  },
  {
   "cell_type": "markdown",
   "metadata": {},
   "source": [
    "### Spalten umwandeln"
   ]
  },
  {
   "cell_type": "code",
   "execution_count": 10,
   "metadata": {},
   "outputs": [],
   "source": [
    "#print(\"Original features:\\n\", list(data.columns), \"\\n\")\n",
    "data_dummies = pd.get_dummies(data)\n",
    "#print(\"Features after get_dummies:\\n\", list(data_dummies.columns))"
   ]
  },
  {
   "cell_type": "markdown",
   "metadata": {},
   "source": [
    "### Neue Tabelle anzeigen"
   ]
  },
  {
   "cell_type": "code",
   "execution_count": 11,
   "metadata": {},
   "outputs": [
    {
     "data": {
      "text/html": [
       "<div>\n",
       "<style scoped>\n",
       "    .dataframe tbody tr th:only-of-type {\n",
       "        vertical-align: middle;\n",
       "    }\n",
       "\n",
       "    .dataframe tbody tr th {\n",
       "        vertical-align: top;\n",
       "    }\n",
       "\n",
       "    .dataframe thead th {\n",
       "        text-align: right;\n",
       "    }\n",
       "</style>\n",
       "<table border=\"1\" class=\"dataframe\">\n",
       "  <thead>\n",
       "    <tr style=\"text-align: right;\">\n",
       "      <th></th>\n",
       "      <th>age</th>\n",
       "      <th>fnlwgt</th>\n",
       "      <th>educational-num</th>\n",
       "      <th>capital-gain</th>\n",
       "      <th>capital-loss</th>\n",
       "      <th>hours-per-week</th>\n",
       "      <th>workclass_?</th>\n",
       "      <th>workclass_Federal-gov</th>\n",
       "      <th>workclass_Local-gov</th>\n",
       "      <th>workclass_Never-worked</th>\n",
       "      <th>...</th>\n",
       "      <th>native-country_Scotland</th>\n",
       "      <th>native-country_South</th>\n",
       "      <th>native-country_Taiwan</th>\n",
       "      <th>native-country_Thailand</th>\n",
       "      <th>native-country_Trinadad&amp;Tobago</th>\n",
       "      <th>native-country_United-States</th>\n",
       "      <th>native-country_Vietnam</th>\n",
       "      <th>native-country_Yugoslavia</th>\n",
       "      <th>income_&lt;=50K</th>\n",
       "      <th>income_&gt;50K</th>\n",
       "    </tr>\n",
       "  </thead>\n",
       "  <tbody>\n",
       "    <tr>\n",
       "      <th>0</th>\n",
       "      <td>25</td>\n",
       "      <td>226802</td>\n",
       "      <td>7</td>\n",
       "      <td>0</td>\n",
       "      <td>0</td>\n",
       "      <td>40</td>\n",
       "      <td>0</td>\n",
       "      <td>0</td>\n",
       "      <td>0</td>\n",
       "      <td>0</td>\n",
       "      <td>...</td>\n",
       "      <td>0</td>\n",
       "      <td>0</td>\n",
       "      <td>0</td>\n",
       "      <td>0</td>\n",
       "      <td>0</td>\n",
       "      <td>1</td>\n",
       "      <td>0</td>\n",
       "      <td>0</td>\n",
       "      <td>1</td>\n",
       "      <td>0</td>\n",
       "    </tr>\n",
       "    <tr>\n",
       "      <th>1</th>\n",
       "      <td>38</td>\n",
       "      <td>89814</td>\n",
       "      <td>9</td>\n",
       "      <td>0</td>\n",
       "      <td>0</td>\n",
       "      <td>50</td>\n",
       "      <td>0</td>\n",
       "      <td>0</td>\n",
       "      <td>0</td>\n",
       "      <td>0</td>\n",
       "      <td>...</td>\n",
       "      <td>0</td>\n",
       "      <td>0</td>\n",
       "      <td>0</td>\n",
       "      <td>0</td>\n",
       "      <td>0</td>\n",
       "      <td>1</td>\n",
       "      <td>0</td>\n",
       "      <td>0</td>\n",
       "      <td>1</td>\n",
       "      <td>0</td>\n",
       "    </tr>\n",
       "    <tr>\n",
       "      <th>2</th>\n",
       "      <td>28</td>\n",
       "      <td>336951</td>\n",
       "      <td>12</td>\n",
       "      <td>0</td>\n",
       "      <td>0</td>\n",
       "      <td>40</td>\n",
       "      <td>0</td>\n",
       "      <td>0</td>\n",
       "      <td>1</td>\n",
       "      <td>0</td>\n",
       "      <td>...</td>\n",
       "      <td>0</td>\n",
       "      <td>0</td>\n",
       "      <td>0</td>\n",
       "      <td>0</td>\n",
       "      <td>0</td>\n",
       "      <td>1</td>\n",
       "      <td>0</td>\n",
       "      <td>0</td>\n",
       "      <td>0</td>\n",
       "      <td>1</td>\n",
       "    </tr>\n",
       "    <tr>\n",
       "      <th>3</th>\n",
       "      <td>44</td>\n",
       "      <td>160323</td>\n",
       "      <td>10</td>\n",
       "      <td>7688</td>\n",
       "      <td>0</td>\n",
       "      <td>40</td>\n",
       "      <td>0</td>\n",
       "      <td>0</td>\n",
       "      <td>0</td>\n",
       "      <td>0</td>\n",
       "      <td>...</td>\n",
       "      <td>0</td>\n",
       "      <td>0</td>\n",
       "      <td>0</td>\n",
       "      <td>0</td>\n",
       "      <td>0</td>\n",
       "      <td>1</td>\n",
       "      <td>0</td>\n",
       "      <td>0</td>\n",
       "      <td>0</td>\n",
       "      <td>1</td>\n",
       "    </tr>\n",
       "    <tr>\n",
       "      <th>4</th>\n",
       "      <td>18</td>\n",
       "      <td>103497</td>\n",
       "      <td>10</td>\n",
       "      <td>0</td>\n",
       "      <td>0</td>\n",
       "      <td>30</td>\n",
       "      <td>1</td>\n",
       "      <td>0</td>\n",
       "      <td>0</td>\n",
       "      <td>0</td>\n",
       "      <td>...</td>\n",
       "      <td>0</td>\n",
       "      <td>0</td>\n",
       "      <td>0</td>\n",
       "      <td>0</td>\n",
       "      <td>0</td>\n",
       "      <td>1</td>\n",
       "      <td>0</td>\n",
       "      <td>0</td>\n",
       "      <td>1</td>\n",
       "      <td>0</td>\n",
       "    </tr>\n",
       "  </tbody>\n",
       "</table>\n",
       "<p>5 rows × 110 columns</p>\n",
       "</div>"
      ],
      "text/plain": [
       "   age  fnlwgt  educational-num  capital-gain  capital-loss  hours-per-week  \\\n",
       "0   25  226802                7             0             0              40   \n",
       "1   38   89814                9             0             0              50   \n",
       "2   28  336951               12             0             0              40   \n",
       "3   44  160323               10          7688             0              40   \n",
       "4   18  103497               10             0             0              30   \n",
       "\n",
       "   workclass_?  workclass_Federal-gov  workclass_Local-gov  \\\n",
       "0            0                      0                    0   \n",
       "1            0                      0                    0   \n",
       "2            0                      0                    1   \n",
       "3            0                      0                    0   \n",
       "4            1                      0                    0   \n",
       "\n",
       "   workclass_Never-worked     ...       native-country_Scotland  \\\n",
       "0                       0     ...                             0   \n",
       "1                       0     ...                             0   \n",
       "2                       0     ...                             0   \n",
       "3                       0     ...                             0   \n",
       "4                       0     ...                             0   \n",
       "\n",
       "   native-country_South  native-country_Taiwan  native-country_Thailand  \\\n",
       "0                     0                      0                        0   \n",
       "1                     0                      0                        0   \n",
       "2                     0                      0                        0   \n",
       "3                     0                      0                        0   \n",
       "4                     0                      0                        0   \n",
       "\n",
       "   native-country_Trinadad&Tobago  native-country_United-States  \\\n",
       "0                               0                             1   \n",
       "1                               0                             1   \n",
       "2                               0                             1   \n",
       "3                               0                             1   \n",
       "4                               0                             1   \n",
       "\n",
       "   native-country_Vietnam  native-country_Yugoslavia  income_<=50K  \\\n",
       "0                       0                          0             1   \n",
       "1                       0                          0             1   \n",
       "2                       0                          0             0   \n",
       "3                       0                          0             0   \n",
       "4                       0                          0             1   \n",
       "\n",
       "   income_>50K  \n",
       "0            0  \n",
       "1            0  \n",
       "2            1  \n",
       "3            1  \n",
       "4            0  \n",
       "\n",
       "[5 rows x 110 columns]"
      ]
     },
     "execution_count": 11,
     "metadata": {},
     "output_type": "execute_result"
    }
   ],
   "source": [
    "data_dummies.head()"
   ]
  },
  {
   "cell_type": "markdown",
   "metadata": {},
   "source": [
    "### Neue Spalten umbenennen"
   ]
  },
  {
   "cell_type": "code",
   "execution_count": 12,
   "metadata": {},
   "outputs": [],
   "source": [
    "data_dummies.rename(columns={'income_>50K': 'mehrals50K', 'income_<=50K': 'wenigerals50K'}, inplace=True)\n",
    "#data_dummies.keys()"
   ]
  },
  {
   "cell_type": "markdown",
   "metadata": {},
   "source": [
    "### Prüfung auf leere Zellen"
   ]
  },
  {
   "cell_type": "code",
   "execution_count": 13,
   "metadata": {},
   "outputs": [
    {
     "name": "stdout",
     "output_type": "stream",
     "text": [
      "Keine Leeren Zellen im Datensatz vorhanden!\n"
     ]
    }
   ],
   "source": [
    "if(data_dummies.isnull().values.any() == False):\n",
    "    print(\"Keine Leeren Zellen im Datensatz vorhanden!\")\n",
    "else:\n",
    "    print(\"Mindestens eine leere Zelle im Datensatz vorhanden!\")"
   ]
  },
  {
   "cell_type": "markdown",
   "metadata": {},
   "source": [
    "# Daten verarbeiten\n",
    "### Variablen festlegen"
   ]
  },
  {
   "cell_type": "code",
   "execution_count": 14,
   "metadata": {},
   "outputs": [
    {
     "name": "stdout",
     "output_type": "stream",
     "text": [
      "Features\n",
      "Trainingsdaten: 36631\n",
      "Testdaten: 12211\n",
      "\n",
      "Labels\n",
      "Trainingsdaten: 36631\n",
      "Testdaten: 12211\n"
     ]
    }
   ],
   "source": [
    "#Remove labels\n",
    "features = data_dummies.drop(['mehrals50K', 'wenigerals50K'], axis=1)\n",
    "labels = data_dummies.mehrals50K\n",
    "features_train, features_test, labels_train, labels_test = train_test_split(features, labels, test_size = 0.25, random_state=5)\n",
    "\n",
    "#Ausgabe\n",
    "print(\"Features\")\n",
    "print(\"Trainingsdaten: \" + str(features_train.shape[0]))\n",
    "print(\"Testdaten: \" + str(features_test.shape[0]))\n",
    "print()\n",
    "print(\"Labels\")\n",
    "print(\"Trainingsdaten: \" + str(labels_train.shape[0]))\n",
    "print(\"Testdaten: \" + str(labels_test.shape[0]))\n"
   ]
  },
  {
   "cell_type": "markdown",
   "metadata": {},
   "source": [
    "## Baseline erstellen"
   ]
  },
  {
   "cell_type": "code",
   "execution_count": 15,
   "metadata": {},
   "outputs": [],
   "source": [
    "feature_list = list(features.columns)\n",
    "#baseline_preds = features_test[:, feature_list.index('mehrals50K')]"
   ]
  },
  {
   "cell_type": "markdown",
   "metadata": {},
   "source": [
    "# Random Forest"
   ]
  },
  {
   "cell_type": "markdown",
   "metadata": {},
   "source": [
    "## Hyperparameter testen"
   ]
  },
  {
   "cell_type": "code",
   "execution_count": 21,
   "metadata": {},
   "outputs": [
    {
     "data": {
      "text/plain": [
       "GridSearchCV(cv=5, error_score='raise-deprecating',\n",
       "       estimator=RandomForestClassifier(bootstrap=True, class_weight=None, criterion='gini',\n",
       "            max_depth=None, max_features='auto', max_leaf_nodes=None,\n",
       "            min_impurity_decrease=0.0, min_impurity_split=None,\n",
       "            min_samples_leaf=1, min_samples_split=2,\n",
       "            min_weight_fraction_leaf=0.0, n_estimators=50, n_jobs=None,\n",
       "            oob_score=False, random_state=None, verbose=0,\n",
       "            warm_start=False),\n",
       "       fit_params=None, iid='warn', n_jobs=None,\n",
       "       param_grid=[{'n_estimators': [60, 70, 80, 90, 100]}],\n",
       "       pre_dispatch='2*n_jobs', refit=True, return_train_score='warn',\n",
       "       scoring='accuracy', verbose=0)"
      ]
     },
     "execution_count": 21,
     "metadata": {},
     "output_type": "execute_result"
    }
   ],
   "source": [
    "tuned_parameters = [{'n_estimators': [60, 70, 80, 90, 100]}]\n",
    "clf = RandomForestClassifier(n_estimators=50)\n",
    "rf_clf = GridSearchCV(clf, \n",
    "                      tuned_parameters, \n",
    "                      cv=5, \n",
    "                      scoring=\"accuracy\")\n",
    "rf_clf.fit(features_train, labels_train)"
   ]
  },
  {
   "cell_type": "code",
   "execution_count": 22,
   "metadata": {},
   "outputs": [
    {
     "data": {
      "text/plain": [
       "{'n_estimators': 100}"
      ]
     },
     "execution_count": 22,
     "metadata": {},
     "output_type": "execute_result"
    }
   ],
   "source": [
    "rf_clf.best_params_"
   ]
  },
  {
   "cell_type": "code",
   "execution_count": 23,
   "metadata": {},
   "outputs": [],
   "source": [
    "rf_clf = RandomForestClassifier(n_estimators=rf_clf.best_params_['n_estimators'])\n",
    "rf_clf.fit(features_train, labels_train)\n",
    "rf_predictions = rf_clf.predict(features_test)"
   ]
  },
  {
   "cell_type": "markdown",
   "metadata": {},
   "source": [
    "## Genauigkeit überprüfen "
   ]
  },
  {
   "cell_type": "code",
   "execution_count": 24,
   "metadata": {
    "scrolled": false
   },
   "outputs": [
    {
     "name": "stdout",
     "output_type": "stream",
     "text": [
      "Genauigkeit mit Prüfung der Testdaten: 84.94%\n",
      "\n"
     ]
    },
    {
     "data": {
      "image/png": "[encoded data removed]",
      "text/plain": [
       "<Figure size 432x432 with 1 Axes>"
      ]
     },
     "metadata": {},
     "output_type": "display_data"
    },
    {
     "data": {
      "image/png": "[encoded data removed]",
      "text/plain": [
       "<Figure size 432x432 with 1 Axes>"
      ]
     },
     "metadata": {},
     "output_type": "display_data"
    },
    {
     "name": "stdout",
     "output_type": "stream",
     "text": [
      "AUC: 0.9006677731190952\n",
      "\n",
      "Metriken ohne Kreuzvalidierung\n",
      "Precision: 71.32%\n",
      "Recall: 62.13%\n",
      "\n",
      "Metriken mit Kreuzvalidierung\n",
      "Accuracy: 85.3%\n",
      "Precision: 72.65%\n",
      "Recall: 61.83%\n",
      "F1-Score: 66.8%\n"
     ]
    },
    {
     "data": {
      "image/png": "[encoded data removed]",
      "text/plain": [
       "<Figure size 1440x288 with 1 Axes>"
      ]
     },
     "metadata": {},
     "output_type": "display_data"
    }
   ],
   "source": [
    "print (\"Genauigkeit mit Prüfung der Testdaten:\", str(round(accuracy_score(labels_test, rf_predictions)*100,2)) + \"%\")\n",
    "print()\n",
    "\n",
    "draw_confusionmatrix(labels_test, rf_predictions)\n",
    "draw_roccurve(rf_clf, labels_test, features_test)\n",
    "draw_curve(labels_test, rf_predictions)\n",
    "get_scores(labels_test, rf_predictions)\n",
    "crossvalidation_all(rf_clf, labels, features, 5)"
   ]
  },
  {
   "cell_type": "markdown",
   "metadata": {},
   "source": [
    "[Quelle](http://dataaspirant.com/2017/06/26/random-forest-classifier-python-scikit-learn/)"
   ]
  },
  {
   "cell_type": "markdown",
   "metadata": {},
   "source": [
    "# Decision Tree"
   ]
  },
  {
   "cell_type": "markdown",
   "metadata": {},
   "source": [
    "## Hyperparameter testen"
   ]
  },
  {
   "cell_type": "code",
   "execution_count": 25,
   "metadata": {},
   "outputs": [
    {
     "data": {
      "text/plain": [
       "GridSearchCV(cv=5, error_score='raise-deprecating',\n",
       "       estimator=DecisionTreeClassifier(class_weight=None, criterion='gini', max_depth=10,\n",
       "            max_features=None, max_leaf_nodes=None,\n",
       "            min_impurity_decrease=0.0, min_impurity_split=None,\n",
       "            min_samples_leaf=5, min_samples_split=2,\n",
       "            min_weight_fraction_leaf=0.0, presort=False, random_state=None,\n",
       "            splitter='best'),\n",
       "       fit_params=None, iid='warn', n_jobs=None,\n",
       "       param_grid=[{'max_depth': [5, 10, 15, 20], 'min_samples_leaf': [5, 6, 7, 8, 9, 10, 20]}],\n",
       "       pre_dispatch='2*n_jobs', refit=True, return_train_score='warn',\n",
       "       scoring='accuracy', verbose=0)"
      ]
     },
     "execution_count": 25,
     "metadata": {},
     "output_type": "execute_result"
    }
   ],
   "source": [
    "tuned_parameters = [{'max_depth': [5, 10, 15, 20], 'min_samples_leaf': [5, 6, 7, 8, 9, 10, 20]}]\n",
    "clf = DecisionTreeClassifier(max_depth=10, min_samples_leaf=5)\n",
    "tree_clf = GridSearchCV(clf,\n",
    "                             tuned_parameters, \n",
    "                             cv=5, \n",
    "                             scoring=\"accuracy\")\n",
    "tree_clf.fit(features_train, labels_train)"
   ]
  },
  {
   "cell_type": "code",
   "execution_count": 26,
   "metadata": {},
   "outputs": [
    {
     "data": {
      "text/plain": [
       "{'max_depth': 10, 'min_samples_leaf': 20}"
      ]
     },
     "execution_count": 26,
     "metadata": {},
     "output_type": "execute_result"
    }
   ],
   "source": [
    "tree_clf.best_params_"
   ]
  },
  {
   "cell_type": "code",
   "execution_count": null,
   "metadata": {},
   "outputs": [],
   "source": [
    "#tree_clf.cv_results_"
   ]
  },
  {
   "cell_type": "code",
   "execution_count": 29,
   "metadata": {},
   "outputs": [],
   "source": [
    "tree_clf = DecisionTreeClassifier(max_depth=10, min_samples_leaf=20)\n",
    "tree_clf.fit(features_train, labels_train)\n",
    "tree_prediction = tree_clf.predict(features_test)"
   ]
  },
  {
   "cell_type": "markdown",
   "metadata": {},
   "source": [
    "## Genauigkeit überprüfen"
   ]
  },
  {
   "cell_type": "code",
   "execution_count": 30,
   "metadata": {},
   "outputs": [
    {
     "name": "stdout",
     "output_type": "stream",
     "text": [
      "Genauigkeit mit Prüfung der Testdaten: 85.42%\n",
      "\n"
     ]
    },
    {
     "data": {
      "image/png": "[encoded data removed]",
      "text/plain": [
       "<Figure size 432x432 with 1 Axes>"
      ]
     },
     "metadata": {},
     "output_type": "display_data"
    },
    {
     "data": {
      "image/png": "[encoded data removed]",
      "text/plain": [
       "<Figure size 432x432 with 1 Axes>"
      ]
     },
     "metadata": {},
     "output_type": "display_data"
    },
    {
     "name": "stdout",
     "output_type": "stream",
     "text": [
      "AUC: 0.9045852257313867\n",
      "\n",
      "Metriken ohne Kreuzvalidierung\n",
      "Precision: 75.53%\n",
      "Recall: 57.93%\n",
      "\n",
      "Metriken mit Kreuzvalidierung\n",
      "Accuracy: 85.89%\n",
      "Precision: 77.27%\n",
      "Recall: 58.14%\n",
      "F1-Score: 66.35%\n"
     ]
    },
    {
     "data": {
      "image/png": "[encoded data removed]",
      "text/plain": [
       "<Figure size 1440x288 with 1 Axes>"
      ]
     },
     "metadata": {},
     "output_type": "display_data"
    }
   ],
   "source": [
    "print (\"Genauigkeit mit Prüfung der Testdaten:\", str(round(accuracy_score(labels_test, tree_prediction)*100,2)) + \"%\")\n",
    "print()\n",
    "\n",
    "draw_confusionmatrix(labels_test, tree_prediction)\n",
    "draw_roccurve(tree_clf, labels_test, features_test)\n",
    "draw_curve(labels_test, tree_prediction)\n",
    "get_scores(labels_test, tree_prediction)\n",
    "crossvalidation_all(tree_clf, labels, features, 5)"
   ]
  },
  {
   "cell_type": "markdown",
   "metadata": {},
   "source": [
    "[Quelle](http://dataaspirant.com/2017/02/01/decision-tree-algorithm-python-with-scikit-learn/)"
   ]
  },
  {
   "cell_type": "markdown",
   "metadata": {},
   "source": [
    "# Gradient Boosting Classifier"
   ]
  },
  {
   "cell_type": "markdown",
   "metadata": {},
   "source": [
    "## Hyperparameter testen"
   ]
  },
  {
   "cell_type": "code",
   "execution_count": null,
   "metadata": {},
   "outputs": [],
   "source": [
    "tuned_parameters = [{'n_estimators': [800, 1000], 'learning_rate': [1, 2], 'max_features': [2, 3], 'max_depth': [2, 3]}]\n",
    "clf = GradientBoostingClassifier(n_estimators=1000, learning_rate=1, max_features=2, max_depth = 2)\n",
    "gb_clf = GridSearchCV(clf, \n",
    "                      tuned_parameters, \n",
    "                      cv=5, \n",
    "                      scoring=\"accuracy\")\n",
    "gb_clf.fit(features_train, labels_train)"
   ]
  },
  {
   "cell_type": "code",
   "execution_count": null,
   "metadata": {},
   "outputs": [],
   "source": [
    "gb_clf.best_params_"
   ]
  },
  {
   "cell_type": "code",
   "execution_count": null,
   "metadata": {},
   "outputs": [],
   "source": [
    "gb_clf = GradientBoostingClassifier(n_estimators=1000, learning_rate=1, max_features=2, max_depth = 2)\n",
    "gb_clf.fit(features_train, labels_train)\n",
    "gb_prediction = gb_clf.predict(features_test)"
   ]
  },
  {
   "cell_type": "markdown",
   "metadata": {},
   "source": [
    "## Genauigkeit überprüfen"
   ]
  },
  {
   "cell_type": "code",
   "execution_count": null,
   "metadata": {
    "scrolled": false
   },
   "outputs": [],
   "source": [
    "print (\"Genauigkeit mit Prüfung der Testdaten:\", str(round(accuracy_score(labels_test, gb_prediction)*100,2)) + \"%\")\n",
    "print()\n",
    "\n",
    "draw_confusionmatrix(labels_test, gb_prediction)\n",
    "draw_roccurve(gb_clf, labels_test, features_test)\n",
    "draw_curve(labels_test, gb_prediction)\n",
    "get_scores(labels_test, gb_prediction)\n",
    "crossvalidation_all(gb_clf, labels, features, 5)"
   ]
  },
  {
   "cell_type": "markdown",
   "metadata": {},
   "source": [
    "# Evaluation der Modelle"
   ]
  },
  {
   "cell_type": "markdown",
   "metadata": {},
   "source": [
    "## Runtime vergleichen"
   ]
  },
  {
   "cell_type": "code",
   "execution_count": null,
   "metadata": {},
   "outputs": [],
   "source": [
    "def time_RandomForest():\n",
    "    rf_clf = RandomForestClassifier()\n",
    "    rf_clf.fit(features_train, labels_train)\n",
    "    rf_predictions = rf_clf.predict(features_test)\n",
    "    \n",
    "def time_DecisionTree():\n",
    "    tree_clf = DecisionTreeClassifier(max_depth=10, min_samples_leaf=5)\n",
    "    tree_clf.fit(features_train, labels_train)\n",
    "    tree_prediction = tree_clf.predict(features_test)\n",
    "\n",
    "def time_GradientBoost():\n",
    "    gb_clf = GradientBoostingClassifier(n_estimators=1000, learning_rate=1, max_features=2, max_depth = 2)\n",
    "    gb_clf.fit(features_train, labels_train)\n",
    "    gb_prediction = gb_clf.predict(features_test)\n",
    "    \n",
    "def get_time(clf, numberOfRuns, name):\n",
    "    time = timeit(clf, number=numberOfRuns)\n",
    "    print(\"Runtime of the \" + name + \" Classifier: \" + str(round((time / numberOfRuns),2)) + \"s\")\n",
    "    \n",
    "numberOfRuns = 10\n",
    "\n",
    "get_time(time_RandomForest, numberOfRuns, \"Random Forest\")\n",
    "get_time(time_DecisionTree, numberOfRuns, \"Decision Tree\")\n",
    "get_time(time_GradientBoost, numberOfRuns, \"Gradient Boost\")\n",
    "\n"
   ]
  },
  {
   "cell_type": "code",
   "execution_count": null,
   "metadata": {},
   "outputs": [],
   "source": [
    "#Modelle vergleichen\n",
    "rf_values = get_metriken(rf_clf, labels, features, 5)\n",
    "tree_values = get_metriken(tree_clf, labels, features, 5)\n",
    "gb_values = get_metriken(gb_clf, labels, features, 5)"
   ]
  },
  {
   "cell_type": "markdown",
   "metadata": {},
   "source": [
    "## Accuracy vergleichen"
   ]
  },
  {
   "cell_type": "code",
   "execution_count": null,
   "metadata": {},
   "outputs": [],
   "source": [
    "# Genauigkeit vergleichen\n",
    "plt.rcdefaults()\n",
    "fig, ax = plt.subplots()\n",
    "\n",
    "# Example data\n",
    "modelle = ('Random Forest', 'Tree', 'Gradient Boosting')\n",
    "y_pos = np.arange(len(modelle))\n",
    "genauigkeit = (rf_values['accuracy'], tree_values['accuracy'], gb_values['accuracy'])\n",
    "\n",
    "ax.barh(y_pos, genauigkeit, align='center', color='blue')\n",
    "ax.set_yticks(y_pos)\n",
    "ax.set_yticklabels(modelle)\n",
    "ax.invert_yaxis()  # labels read top-to-bottom\n",
    "ax.set_xlabel('Accuracy in %')\n",
    "ax.set_title('Accuracy der einzelnen Modelle')\n",
    "ax.set_xlim([82, 88])\n",
    "\n",
    "\n",
    "plt.show()"
   ]
  },
  {
   "cell_type": "markdown",
   "metadata": {},
   "source": [
    "## Precision vergleichen"
   ]
  },
  {
   "cell_type": "code",
   "execution_count": null,
   "metadata": {},
   "outputs": [],
   "source": [
    "# Relevanz vergleichen\n",
    "plt.rcdefaults()\n",
    "fig, ax = plt.subplots()\n",
    "\n",
    "# Example data\n",
    "modelle = ('Random Forest', 'Tree', 'Gradient Boosting')\n",
    "y_pos = np.arange(len(modelle))\n",
    "precision = (rf_values['precision'], tree_values['precision'], gb_values['precision'])\n",
    "\n",
    "ax.barh(y_pos, precision, align='center', color='blue')\n",
    "ax.set_yticks(y_pos)\n",
    "ax.set_yticklabels(modelle)\n",
    "ax.invert_yaxis()  # labels read top-to-bottom\n",
    "ax.set_xlabel('Precision in %')\n",
    "ax.set_title('Precision der einzelnen Modelle')\n",
    "ax.set_xlim([70, 78])\n",
    "\n",
    "\n",
    "plt.show()"
   ]
  },
  {
   "cell_type": "markdown",
   "metadata": {},
   "source": [
    "## Recall vergleichen"
   ]
  },
  {
   "cell_type": "code",
   "execution_count": null,
   "metadata": {},
   "outputs": [],
   "source": [
    "# Sensitivität vergleichen\n",
    "plt.rcdefaults()\n",
    "fig, ax = plt.subplots()\n",
    "\n",
    "# Example data\n",
    "modelle = ('Random Forest', 'Tree', 'Gradient Boosting')\n",
    "y_pos = np.arange(len(modelle))\n",
    "recall = (rf_values['recall'], tree_values['recall'], gb_values['recall'])\n",
    "\n",
    "ax.barh(y_pos, recall, align='center', color='blue')\n",
    "ax.set_yticks(y_pos)\n",
    "ax.set_yticklabels(modelle)\n",
    "ax.invert_yaxis()  # labels read top-to-bottom\n",
    "ax.set_xlabel('Recall in %')\n",
    "ax.set_title('Recall der einzelnen Modelle')\n",
    "ax.set_xlim([57, 65])\n",
    "\n",
    "\n",
    "plt.show()"
   ]
  },
  {
   "cell_type": "markdown",
   "metadata": {},
   "source": [
    "## F1-Score vergleichen"
   ]
  },
  {
   "cell_type": "code",
   "execution_count": null,
   "metadata": {},
   "outputs": [],
   "source": [
    "# Sensitivität vergleichen\n",
    "plt.rcdefaults()\n",
    "fig, ax = plt.subplots()\n",
    "\n",
    "# Example data\n",
    "modelle = ('Random Forest', 'Tree', 'Gradient Boosting')\n",
    "y_pos = np.arange(len(modelle))\n",
    "f1score = (rf_values['f1score'], tree_values['f1score'], gb_values['f1score'])\n",
    "\n",
    "ax.barh(y_pos, f1score, align='center', color='blue')\n",
    "ax.set_yticks(y_pos)\n",
    "ax.set_yticklabels(modelle)\n",
    "ax.invert_yaxis()  # labels read top-to-bottom\n",
    "ax.set_xlabel('F1 Score in %')\n",
    "ax.set_title('F1 Score der einzelnen Modelle')\n",
    "ax.set_xlim([66, 70])\n",
    "\n",
    "\n",
    "plt.show()"
   ]
  },
  {
   "cell_type": "markdown",
   "metadata": {},
   "source": [
    "## Zusammenfassung der Evaluation"
   ]
  },
  {
   "cell_type": "code",
   "execution_count": null,
   "metadata": {},
   "outputs": [],
   "source": [
    "fig, ax = plt.subplots(figsize=(10, 7))\n",
    "modelle = ('Random Forest', 'Tree', 'Gradient Boosting')\n",
    "x_pos = np.arange(len(modelle))\n",
    "\n",
    "ind = np.arange(3)\n",
    "width = 0.35       # the width of the bars: can also be len(x) sequence\n",
    "\n",
    "p1 = ax.bar(ind, genauigkeit, width)\n",
    "p2 = ax.bar(ind, precision, width, bottom=genauigkeit)\n",
    "p3 = ax.bar(ind, recall, width, bottom=np.array(genauigkeit)+np.array(precision))\n",
    "\n",
    "ax.set_ylabel('Summierte Prozentpunkte')\n",
    "ax.set_title('Zusammenfassung der Ergebnisse')\n",
    "ax.set_xticks(x_pos)\n",
    "ax.set_xticklabels(modelle)\n",
    "ax.legend((p3[0], p2[0], p1[0]), ('Recall', 'Precision', 'Accuracy'), loc=8)\n",
    "\n",
    "autolabel(p3)\n",
    "autolabel(p2)\n",
    "autolabel(p1)\n",
    "\n",
    "plt.show()"
   ]
  }
 ],
 "metadata": {
  "kernelspec": {
   "display_name": "Python 3",
   "language": "python",
   "name": "python3"
  },
  "language_info": {
   "codemirror_mode": {
    "name": "ipython",
    "version": 3
   },
   "file_extension": ".py",
   "mimetype": "text/x-python",
   "name": "python",
   "nbconvert_exporter": "python",
   "pygments_lexer": "ipython3",
   "version": "3.7.1"
  }
 },
 "nbformat": 4,
 "nbformat_minor": 2
}
